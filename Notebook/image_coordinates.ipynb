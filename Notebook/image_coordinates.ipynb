{
 "cells": [
  {
   "cell_type": "markdown",
   "metadata": {},
   "source": [
    "Extract Text Coordinates using OCR (pytesseract)\n",
    "We will use pytesseract (Tesseract OCR) to detect text and get bounding boxes."
   ]
  },
  {
   "cell_type": "code",
   "execution_count": 7,
   "metadata": {},
   "outputs": [],
   "source": [
    "import os\n",
    "import json\n",
    "import numpy as np\n",
    "import cv2\n",
    "from PIL import Image, ImageDraw\n",
    "import pytesseract"
   ]
  },
  {
   "cell_type": "code",
   "execution_count": 8,
   "metadata": {},
   "outputs": [
    {
     "name": "stdout",
     "output_type": "stream",
     "text": [
      "Segmentation mask generation complete. Masks and coordinates saved.\n"
     ]
    }
   ],
   "source": [
    "\n",
    "\n",
    "# Define paths\n",
    "augmented_folder = \"../artifacts/augmented_outputs\"\n",
    "mask_folder = \"../artifacts/mask_folder\"\n",
    "coords_folder = \"../artifacts/outputs\"\n",
    "\n",
    "# Create output directories\n",
    "os.makedirs(mask_folder, exist_ok=True)\n",
    "os.makedirs(coords_folder, exist_ok=True)\n",
    "\n",
    "def extract_text_coordinates(image_path):\n",
    "    \"\"\"Extract bounding boxes of text using OCR (Tesseract).\"\"\"\n",
    "    image = cv2.imread(image_path)\n",
    "    gray = cv2.cvtColor(image, cv2.COLOR_BGR2GRAY)\n",
    "\n",
    "    # Use Tesseract to detect text and get bounding boxes\n",
    "    data = pytesseract.image_to_data(gray, output_type=pytesseract.Output.DICT)\n",
    "\n",
    "    text_coordinates = []\n",
    "    for i in range(len(data[\"text\"])):\n",
    "        if data[\"text\"][i].strip():  # Ignore empty results\n",
    "            x, y, w, h = data[\"left\"][i], data[\"top\"][i], data[\"width\"][i], data[\"height\"][i]\n",
    "            text_coordinates.append({\"x\": x, \"y\": y, \"width\": w, \"height\": h, \"text\": data[\"text\"][i]})\n",
    "\n",
    "    return text_coordinates\n",
    "\n",
    "def create_mask(image_path, text_coordinates, mask_path):\n",
    "    \"\"\"Generate binary mask from text bounding boxes.\"\"\"\n",
    "    image = Image.open(image_path)\n",
    "    mask = Image.new(\"L\", image.size, 0)  # Black background (0)\n",
    "\n",
    "    draw = ImageDraw.Draw(mask)\n",
    "    for box in text_coordinates:\n",
    "        x, y, w, h = box[\"x\"], box[\"y\"], box[\"width\"], box[\"height\"]\n",
    "        draw.rectangle([x, y, x + w, y + h], fill=255)  # White text (255)\n",
    "\n",
    "    mask.save(mask_path)\n",
    "\n",
    "def process_images(folder):\n",
    "    \"\"\"Process all images in the augmented folder.\"\"\"\n",
    "    for image_file in os.listdir(folder):\n",
    "        if image_file.endswith(\".png\") or image_file.endswith(\".jpg\"):\n",
    "            image_path = os.path.join(folder, image_file)\n",
    "            \n",
    "            # Extract text coordinates\n",
    "            text_coords = extract_text_coordinates(image_path)\n",
    "\n",
    "            # Save coordinates\n",
    "            coords_path = os.path.join(coords_folder, image_file.replace(\".png\", \".json\").replace(\".jpg\", \".json\"))\n",
    "            with open(coords_path, \"w\") as f:\n",
    "                json.dump(text_coords, f, indent=4)\n",
    "\n",
    "            # Generate and save mask\n",
    "            mask_path = os.path.join(mask_folder, image_file.replace(\".png\", \"_mask.png\").replace(\".jpg\", \"_mask.png\"))\n",
    "            create_mask(image_path, text_coords, mask_path)\n",
    "\n",
    "    print(\"Segmentation mask generation complete. Masks and coordinates saved.\")\n",
    "\n",
    "# Run processing on the augmented images\n",
    "process_images(augmented_folder)\n"
   ]
  }
 ],
 "metadata": {
  "kernelspec": {
   "display_name": "Python 3",
   "language": "python",
   "name": "python3"
  },
  "language_info": {
   "codemirror_mode": {
    "name": "ipython",
    "version": 3
   },
   "file_extension": ".py",
   "mimetype": "text/x-python",
   "name": "python",
   "nbconvert_exporter": "python",
   "pygments_lexer": "ipython3",
   "version": "3.8.20"
  }
 },
 "nbformat": 4,
 "nbformat_minor": 2
}
