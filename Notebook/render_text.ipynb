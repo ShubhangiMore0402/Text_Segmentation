{
 "cells": [
  {
   "cell_type": "code",
   "execution_count": 13,
   "metadata": {},
   "outputs": [],
   "source": [
    "from PIL import Image, ImageDraw, ImageFont\n",
    "import os\n",
    "import random"
   ]
  },
  {
   "cell_type": "code",
   "execution_count": 6,
   "metadata": {},
   "outputs": [],
   "source": [
    "# Paths to resources\n",
    "fonts_dir = \"../artifacts/fonts\"  # Adjust path to your fonts directory\n",
    "text_file = \"../artifacts/text_data/preprocessed_text.txt\"  # Path to processed text file\n",
    "output_dir = \"../artifacts/rendered_images\"  # Output directory for rendered images\n",
    "\n",
    "# Image settings\n",
    "image_size = (800, 600)  # Image dimensions (width x height)\n",
    "text_color = \"black\"  # Text color\n",
    "background_color = \"white\"  # Background color\n",
    "\n"
   ]
  },
  {
   "cell_type": "code",
   "execution_count": 7,
   "metadata": {},
   "outputs": [],
   "source": [
    "# Load sentences from the preprocessed text file\n",
    "with open(text_file, 'r', encoding='utf-8') as file:\n",
    "    sentences = file.readlines()\n",
    "\n",
    "# Strip any extra whitespace from sentences\n",
    "sentences = [sentence.strip() for sentence in sentences if sentence.strip()]\n"
   ]
  },
  {
   "cell_type": "code",
   "execution_count": 14,
   "metadata": {},
   "outputs": [
    {
     "name": "stdout",
     "output_type": "stream",
     "text": [
      "Available fonts: ['satisfy.ttf', 'dancingscript.ttf', 'patrickhand.ttf']\n",
      "Rendered text saved as: ../artifacts/rendered_images/3299.png\n",
      "Available fonts: ['satisfy.ttf', 'dancingscript.ttf', 'patrickhand.ttf']\n",
      "Rendered text saved as: ../artifacts/rendered_images/7868.png\n",
      "Available fonts: ['satisfy.ttf', 'dancingscript.ttf', 'patrickhand.ttf']\n",
      "Rendered text saved as: ../artifacts/rendered_images/4636.png\n",
      "Available fonts: ['satisfy.ttf', 'dancingscript.ttf', 'patrickhand.ttf']\n",
      "Rendered text saved as: ../artifacts/rendered_images/1372.png\n",
      "Available fonts: ['satisfy.ttf', 'dancingscript.ttf', 'patrickhand.ttf']\n",
      "Rendered text saved as: ../artifacts/rendered_images/3058.png\n",
      "Available fonts: ['satisfy.ttf', 'dancingscript.ttf', 'patrickhand.ttf']\n",
      "Rendered text saved as: ../artifacts/rendered_images/8789.png\n",
      "Available fonts: ['satisfy.ttf', 'dancingscript.ttf', 'patrickhand.ttf']\n",
      "Rendered text saved as: ../artifacts/rendered_images/7299.png\n",
      "Available fonts: ['satisfy.ttf', 'dancingscript.ttf', 'patrickhand.ttf']\n",
      "Rendered text saved as: ../artifacts/rendered_images/2668.png\n",
      "Available fonts: ['satisfy.ttf', 'dancingscript.ttf', 'patrickhand.ttf']\n",
      "Rendered text saved as: ../artifacts/rendered_images/6932.png\n",
      "Available fonts: ['satisfy.ttf', 'dancingscript.ttf', 'patrickhand.ttf']\n",
      "Rendered text saved as: ../artifacts/rendered_images/4400.png\n"
     ]
    }
   ],
   "source": [
    "def render_text_on_image(sentence, fonts_dir, output_dir, image_size=(800, 600)):\n",
    "    \"\"\"\n",
    "    Renders a given sentence onto a blank image using random fonts and placement.\n",
    "\n",
    "    Args:\n",
    "    - sentence (str): The sentence to render.\n",
    "    - fonts_dir (str): Directory containing font files.\n",
    "    - output_dir (str): Directory to save the rendered images.\n",
    "    - image_size (tuple): Dimensions of the blank image (width, height).\n",
    "\n",
    "    Returns:\n",
    "    - None\n",
    "    \"\"\"\n",
    "    # Create a blank image\n",
    "    img = Image.new('RGB', image_size, color=background_color)\n",
    "    draw = ImageDraw.Draw(img)\n",
    "\n",
    "    # Randomly select a font from the fonts directory\n",
    "    font_files = [f for f in os.listdir(fonts_dir) if f.endswith(\".ttf\") or f.endswith(\".otf\")]\n",
    "    print(\"Available fonts:\", font_files)  # Debugging: Verify fonts found\n",
    "    if not font_files:\n",
    "        print(\"No fonts found in the directory. Please add .ttf or .otf files.\")\n",
    "        return\n",
    "\n",
    "    font_path = os.path.join(fonts_dir, random.choice(font_files))\n",
    "    font_size = random.randint(20, 50)  # Random font size\n",
    "    font = ImageFont.truetype(font_path, size=font_size)\n",
    "\n",
    "    # Get text dimensions using textbbox\n",
    "    text_bbox = draw.textbbox((0, 0), sentence, font=font)  # Returns (left, top, right, bottom)\n",
    "    text_width = text_bbox[2] - text_bbox[0]\n",
    "    text_height = text_bbox[3] - text_bbox[1]\n",
    "\n",
    "    # Randomize the text position\n",
    "    max_x = image_size[0] - text_width\n",
    "    max_y = image_size[1] - text_height\n",
    "    x = random.randint(0, max(0, max_x))\n",
    "    y = random.randint(0, max(0, max_y))\n",
    "\n",
    "    # Draw the text on the image\n",
    "    draw.text((x, y), sentence, fill=text_color, font=font)\n",
    "\n",
    "    # Create output directory if it doesn't exist\n",
    "    os.makedirs(output_dir, exist_ok=True)\n",
    "\n",
    "    # Save the image\n",
    "    image_name = f\"{random.randint(1000, 9999)}.png\"  # Random name for the image\n",
    "    image_path = os.path.join(output_dir, image_name)\n",
    "    img.save(image_path)\n",
    "\n",
    "    print(f\"Rendered text saved as: {image_path}\")  # Debugging: Confirm save\n",
    "\n",
    "# Render images for a random selection of sentences\n",
    "for i in range(10):  # Render 10 images\n",
    "    sentence = random.choice(sentences)  # Pick a random sentence\n",
    "    render_text_on_image(sentence, fonts_dir, output_dir, image_size=image_size)"
   ]
  },
  {
   "cell_type": "code",
   "execution_count": null,
   "metadata": {},
   "outputs": [],
   "source": []
  }
 ],
 "metadata": {
  "kernelspec": {
   "display_name": "Python 3",
   "language": "python",
   "name": "python3"
  },
  "language_info": {
   "codemirror_mode": {
    "name": "ipython",
    "version": 3
   },
   "file_extension": ".py",
   "mimetype": "text/x-python",
   "name": "python",
   "nbconvert_exporter": "python",
   "pygments_lexer": "ipython3",
   "version": "3.8.20"
  }
 },
 "nbformat": 4,
 "nbformat_minor": 2
}
