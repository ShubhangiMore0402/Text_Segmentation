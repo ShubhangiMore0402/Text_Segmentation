{
 "cells": [
  {
   "cell_type": "markdown",
   "metadata": {},
   "source": [
    "#### Apply Augmentations\n",
    "We'll apply the following types of augmentations to the images:\n",
    "\n",
    "##### a. Geometric Augmentations\n",
    "Rotation: Simulate tilted text by rotating the image slightly.\n",
    "Skewing: Introduce perspective distortions to mimic handwritten text scanned at an angle.\n",
    "Scaling: Increase or decrease the size of text.\n",
    "##### b. Color Augmentations\n",
    "Brightness and Contrast: Simulate different lighting conditions or faded text.\n",
    "Noise: Add Gaussian noise to mimic imperfections in scanned documents.\n",
    "##### c. Text Variability\n",
    "Ink Spread: Simulate smudged or faded ink.\n",
    "Smudges: Add random smudges around text to mimic real handwriting.\n",
    "##### d. Background Augmentations\n",
    "Textured Backgrounds: Add backgrounds that resemble paper textures (e.g., lined paper, wrinkled paper, etc.).\n",
    "Random Noise: Mimic imperfections in the paper or scanning process."
   ]
  },
  {
   "cell_type": "code",
   "execution_count": 15,
   "metadata": {},
   "outputs": [],
   "source": [
    "import os\n",
    "import random\n",
    "from imgaug import augmenters as iaa\n",
    "from PIL import Image\n",
    "import numpy as np\n",
    "import cv2"
   ]
  },
  {
   "cell_type": "code",
   "execution_count": 16,
   "metadata": {},
   "outputs": [],
   "source": [
    "\n",
    "# Paths\n",
    "input_dir = \"../artifacts/rendered_images\"  # Folder containing the generated images\n",
    "augmented_dir = \"../artifacts/augmented_outputs\"  # Folder to save augmented images"
   ]
  },
  {
   "cell_type": "code",
   "execution_count": 17,
   "metadata": {},
   "outputs": [],
   "source": [
    "\n",
    "# Define augmentation pipeline with additional features\n",
    "augmentation_pipeline = iaa.Sequential([\n",
    "    iaa.Fliplr(0.5),  # 50% chance to flip horizontally\n",
    "    iaa.Flipud(0.2),  # 20% chance to flip vertically\n",
    "    iaa.Affine(\n",
    "        rotate=(-25, 25),  # Rotate between -25 and 25 degrees\n",
    "        scale=(0.8, 1.2)   # Scale image between 80% and 120%\n",
    "    ),\n",
    "    iaa.PerspectiveTransform(scale=(0.01, 0.15)),  # Simulate different angles\n",
    "    iaa.AdditiveGaussianNoise(scale=(0, 0.05 * 255)),  # Add noise\n",
    "    iaa.GaussianBlur(sigma=(0.0, 1.5)),  # Apply Gaussian blur\n",
    "    iaa.Multiply((0.8, 1.2)),  # Adjust brightness\n",
    "    iaa.LinearContrast((0.8, 1.2)),  # Adjust contrast\n",
    "    iaa.OneOf([\n",
    "        iaa.pillike.EnhanceSharpness((0.5, 2.0)),  # Adjust sharpness\n",
    "        iaa.pillike.EnhanceContrast((0.5, 2.0))   # Adjust contrast dynamically\n",
    "    ]),\n",
    "    iaa.Sometimes(0.3, iaa.Dropout(p=(0.01, 0.05))),  # Occasional missing pixels (for realism)\n",
    "])"
   ]
  },
  {
   "cell_type": "code",
   "execution_count": 18,
   "metadata": {},
   "outputs": [
    {
     "name": "stdout",
     "output_type": "stream",
     "text": [
      "Augmentation complete. Augmented images saved in: ../artifacts/augmented_outputs\n"
     ]
    }
   ],
   "source": [
    "# Additional augmentation functions\n",
    "def add_coffee_stain(image_np):\n",
    "    \"\"\"Add occasional coffee stains or smudges for realism.\"\"\"\n",
    "    stain = iaa.Sometimes(0.3, iaa.BlendAlphaSimplexNoise(iaa.Multiply((0.5, 0.9)), per_channel=True))\n",
    "    return stain(image=image_np)\n",
    "\n",
    "def vary_pen_pencil_thickness(image_np):\n",
    "    \"\"\"Vary pen/pencil thickness and color to simulate different writing styles.\"\"\"\n",
    "    stroke_augmenter = iaa.OneOf([\n",
    "        iaa.Sometimes(0.5, iaa.AddToHueAndSaturation((-30, 30))),  # Vary color tone\n",
    "        iaa.Sometimes(0.7, iaa.GaussianBlur(sigma=(0.5, 1.5)))  # Simulate pen strokes\n",
    "    ])\n",
    "    return stroke_augmenter(image=image_np)\n",
    "\n",
    "# Function to apply augmentations and save images\n",
    "def augment_image(image_path, output_dir, augmentations, num_augmentations=5):\n",
    "    \"\"\"Apply augmentations including perspective, stains, and stroke variations.\"\"\"\n",
    "    image = Image.open(image_path).convert(\"RGB\")  # Ensure image is RGB\n",
    "    image_np = np.array(image)  # Convert to NumPy array\n",
    "\n",
    "    base_name = os.path.splitext(os.path.basename(image_path))[0]  # Extract filename\n",
    "\n",
    "    # Apply augmentations\n",
    "    for i in range(num_augmentations):\n",
    "        augmented_image_np = augmentations.augment_image(image_np)  # Apply augmentation\n",
    "        augmented_image_np = augmentations(image=image_np)  # Apply augmentation\n",
    "        augmented_image_np = add_coffee_stain(augmented_image_np)  # Add stains/smudges\n",
    "        augmented_image_np = vary_pen_pencil_thickness(augmented_image_np)  # Vary writing instrument\n",
    "        \n",
    "        augmented_image = Image.fromarray(augmented_image_np)  # Convert back to image\n",
    "\n",
    "        # Save the augmented image\n",
    "        augmented_image.save(os.path.join(output_dir, f\"{base_name}_aug_{i}.png\"))\n",
    "\n",
    "# Process all images in the input directory\n",
    "for image_file in os.listdir(input_dir):\n",
    "    if image_file.endswith(\".png\") or image_file.endswith(\".jpg\"):\n",
    "        image_path = os.path.join(input_dir, image_file)\n",
    "        augment_image(image_path, augmented_dir, augmentation_pipeline)\n",
    "\n",
    "print(\"Augmentation complete. Augmented images saved in:\", augmented_dir)"
   ]
  }
 ],
 "metadata": {
  "kernelspec": {
   "display_name": "Python 3",
   "language": "python",
   "name": "python3"
  },
  "language_info": {
   "codemirror_mode": {
    "name": "ipython",
    "version": 3
   },
   "file_extension": ".py",
   "mimetype": "text/x-python",
   "name": "python",
   "nbconvert_exporter": "python",
   "pygments_lexer": "ipython3",
   "version": "3.8.20"
  }
 },
 "nbformat": 4,
 "nbformat_minor": 2
}
