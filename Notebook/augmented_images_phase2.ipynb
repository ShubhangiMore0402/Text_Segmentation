{
 "cells": [
  {
   "cell_type": "code",
   "execution_count": 1,
   "metadata": {},
   "outputs": [],
   "source": [
    "import os\n",
    "import numpy as np\n",
    "import imgaug.augmenters as iaa\n",
    "from PIL import Image"
   ]
  },
  {
   "cell_type": "code",
   "execution_count": 2,
   "metadata": {},
   "outputs": [
    {
     "name": "stdout",
     "output_type": "stream",
     "text": [
      "Augmentation complete. Augmented images saved in: ../artifacts/augmented_outputs\n"
     ]
    }
   ],
   "source": [
    "\n",
    "# Paths\n",
    "input_dir = \"../artifacts/rendered_images\"  # Folder containing the generated images\n",
    "augmented_dir = \"../artifacts/augmented_outputs\"  # Folder to save augmented images\n",
    "\n",
    "# Ensure output directory exists\n",
    "os.makedirs(augmented_dir, exist_ok=True)\n",
    "\n",
    "# Define augmentation pipeline\n",
    "augmentation_pipeline = iaa.Sequential([\n",
    "    iaa.Sometimes(0.5, iaa.PerspectiveTransform(scale=(0.01, 0.15))),  # Writing angle variations\n",
    "    iaa.Sometimes(0.5, iaa.GaussianBlur(sigma=(0, 1.5))),  # Slight blur\n",
    "    iaa.Sometimes(0.3, iaa.AdditiveGaussianNoise(scale=(10, 30))),  # Noise for realism\n",
    "    iaa.Sometimes(0.5, iaa.LinearContrast((0.75, 1.25))),  # Contrast variations\n",
    "])\n",
    "\n",
    "def add_coffee_stain(image_np):\n",
    "    \"\"\"Simulates random coffee stains or smudges.\"\"\"\n",
    "    stain_augmenter = iaa.Sometimes(\n",
    "        0.4,  # 40% probability of adding a stain\n",
    "        iaa.BlendAlphaSimplexNoise(iaa.Multiply((0.7, 1.3)), per_channel=True)\n",
    "    )\n",
    "    return stain_augmenter.augment_image(image_np)\n",
    "\n",
    "def vary_pen_pencil_thickness(image_np):\n",
    "    \"\"\"Varies pen thickness and color.\"\"\"\n",
    "    stroke_augmenter = iaa.OneOf([\n",
    "        iaa.Sometimes(0.5, iaa.AddToHueAndSaturation((-30, 30))),  # Color tone variation\n",
    "        iaa.Sometimes(0.7, iaa.Multiply((0.8, 1.2))),  # Ink intensity variation\n",
    "    ])\n",
    "    return stroke_augmenter.augment_image(image_np)\n",
    "\n",
    "def augment_image(image_path, output_dir, augmentations, num_augmentations=5):\n",
    "    \"\"\"Applies augmentations to an image and saves multiple augmented versions.\"\"\"\n",
    "    image = Image.open(image_path).convert(\"RGB\")\n",
    "    image_np = np.array(image)  # Convert to NumPy array\n",
    "\n",
    "    for i in range(num_augmentations):\n",
    "        augmented_image_np = augmentations.augment_image(image_np)\n",
    "        augmented_image_np = add_coffee_stain(augmented_image_np)\n",
    "        augmented_image_np = vary_pen_pencil_thickness(augmented_image_np)\n",
    "\n",
    "        augmented_image = Image.fromarray(augmented_image_np)  # Convert back to PIL Image\n",
    "        output_path = os.path.join(output_dir, f\"{os.path.basename(image_path).split('.')[0]}_aug_{i}.png\")\n",
    "        augmented_image.save(output_path)\n",
    "\n",
    "# Override NumPy bool usage in imgaug (Fix for future runs)\n",
    "np.bool = np.bool_  # This prevents imgaug from using the deprecated alias\n",
    "\n",
    "# Process all images in the input directory\n",
    "for image_file in os.listdir(input_dir):\n",
    "    if image_file.lower().endswith((\".png\", \".jpg\", \".jpeg\")):\n",
    "        image_path = os.path.join(input_dir, image_file)\n",
    "        augment_image(image_path, augmented_dir, augmentation_pipeline)\n",
    "\n",
    "print(\"Augmentation complete. Augmented images saved in:\", augmented_dir)\n"
   ]
  },
  {
   "cell_type": "code",
   "execution_count": null,
   "metadata": {},
   "outputs": [],
   "source": []
  }
 ],
 "metadata": {
  "kernelspec": {
   "display_name": "Python 3",
   "language": "python",
   "name": "python3"
  },
  "language_info": {
   "codemirror_mode": {
    "name": "ipython",
    "version": 3
   },
   "file_extension": ".py",
   "mimetype": "text/x-python",
   "name": "python",
   "nbconvert_exporter": "python",
   "pygments_lexer": "ipython3",
   "version": "3.8.20"
  }
 },
 "nbformat": 4,
 "nbformat_minor": 2
}
