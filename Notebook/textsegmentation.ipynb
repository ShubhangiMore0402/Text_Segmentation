{
 "cells": [
  {
   "cell_type": "markdown",
   "metadata": {},
   "source": [
    "# Synthetic Dataset Creation\n",
    "\n",
    "## Collect Handwriting Fonts\n",
    "\n",
    "### Download free handwritten fonts from websites like: Google Fonts, DaFont\n",
    "Save the fonts (e.g., .ttf or .otf files) in your fonts/ directory.\n",
    "\n",
    "Reasoning: Using a variety of fonts helps simulate different handwriting styles, making your dataset diverse and realistic."
   ]
  },
  {
   "cell_type": "code",
   "execution_count": 20,
   "metadata": {},
   "outputs": [],
   "source": [
    "from PIL import Image, ImageDraw, ImageFont\n",
    "import os\n",
    "import random\n",
    "import re"
   ]
  },
  {
   "cell_type": "code",
   "execution_count": 21,
   "metadata": {},
   "outputs": [],
   "source": [
    "fonts_dir = \"../fonts\"  # Go one level up to find the fonts directory"
   ]
  },
  {
   "cell_type": "code",
   "execution_count": 22,
   "metadata": {},
   "outputs": [
    {
     "name": "stdout",
     "output_type": "stream",
     "text": [
      "Font '../artifacts/fonts/satisfy.ttf' is working! Image saved as 'satisfy.png'\n",
      "Font '../artifacts/fonts/dancingscript.ttf' is working! Image saved as 'dancingscript.png'\n",
      "Font '../artifacts/fonts/patrickhand.ttf' is working! Image saved as 'patrickhand.png'\n"
     ]
    }
   ],
   "source": [
    "# List of phrases to choose from\n",
    "phrases = [\n",
    "    \"Hello, World!\",\n",
    "    \"This is a sample text.\",\n",
    "    \"Python is fun!\",\n",
    "    \"I love coding.\",\n",
    "    \"Handwriting recognition.\",\n",
    "    \"Random text generation.\",\n",
    "    \"AI and ML projects.\",\n",
    "    \"Creating synthetic data.\",\n",
    "    \"This is a great project!\",\n",
    "    \"Have a wonderful day!\"\n",
    "]\n",
    "# Test if a font works and save the output image\n",
    "def test_font(font_path, output_dir, text=\"Hello, World!\"):\n",
    "    try:\n",
    "        # Create a blank image\n",
    "        img = Image.new('RGB', (400, 100), color='white')\n",
    "        draw = ImageDraw.Draw(img)\n",
    "\n",
    "        # Load and use the font\n",
    "        font = ImageFont.truetype(font_path, size=40)\n",
    "        # Select a random phrase from the list\n",
    "        text = random.choice(phrases)\n",
    "        # Draw the random text on the image\n",
    "        draw.text((10, 10), text, font=font, fill='black')\n",
    "\n",
    "        # Create output directory if it doesn't exist\n",
    "        os.makedirs(output_dir, exist_ok=True)\n",
    "\n",
    "        # Save the image in the output directory\n",
    "        image_name = os.path.basename(font_path).replace('.ttf', '.png').replace('.otf', '.png')\n",
    "        img.save(os.path.join(output_dir, image_name))\n",
    "        \n",
    "        print(f\"Font '{font_path}' is working! Image saved as '{image_name}'\")\n",
    "    except Exception as e:\n",
    "        print(f\"Error loading font '{font_path}': {e}\")\n",
    "\n",
    "# Test all fonts in the fonts folder\n",
    "fonts_dir = \"../artifacts/fonts\"  # Corrected path\n",
    "output_dir = \"../artifacts/generated_images\"  # Output folder for images (go up one level)\n",
    "\n",
    "for font_file in os.listdir(fonts_dir):\n",
    "    if font_file.endswith(\".ttf\") or font_file.endswith(\".otf\"):\n",
    "        test_font(os.path.join(fonts_dir, font_file), output_dir)"
   ]
  },
  {
   "cell_type": "code",
   "execution_count": null,
   "metadata": {},
   "outputs": [],
   "source": []
  }
 ],
 "metadata": {
  "kernelspec": {
   "display_name": "Python 3",
   "language": "python",
   "name": "python3"
  },
  "language_info": {
   "codemirror_mode": {
    "name": "ipython",
    "version": 3
   },
   "file_extension": ".py",
   "mimetype": "text/x-python",
   "name": "python",
   "nbconvert_exporter": "python",
   "pygments_lexer": "ipython3",
   "version": "3.8.20"
  }
 },
 "nbformat": 4,
 "nbformat_minor": 2
}
