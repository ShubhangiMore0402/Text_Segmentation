{
 "cells": [
  {
   "cell_type": "code",
   "execution_count": 1,
   "metadata": {},
   "outputs": [],
   "source": [
    "import os\n",
    "import random\n",
    "import imageio\n",
    "import numpy as np\n",
    "from imgaug import augmenters as iaa"
   ]
  },
  {
   "cell_type": "code",
   "execution_count": 2,
   "metadata": {},
   "outputs": [],
   "source": [
    "# Directories\n",
    "input_dir = \"../artifacts/rendered_images\"  # Path to the folder with rendered images\n",
    "output_dir = \"../artifacts/augumented_images\"  # Path to save augmented images\n",
    "\n",
    "# Create output directory if it doesn't exist\n",
    "os.makedirs(output_dir, exist_ok=True)"
   ]
  },
  {
   "cell_type": "code",
   "execution_count": 3,
   "metadata": {},
   "outputs": [
    {
     "name": "stderr",
     "output_type": "stream",
     "text": [
      "/Users/shubhangimore/textsegmentation/envs/lib/python3.8/site-packages/imgaug/imgaug.py:184: DeprecationWarning: Function `ContrastNormalization()` is deprecated. Use `imgaug.contrast.LinearContrast` instead.\n",
      "  warn_deprecated(msg, stacklevel=3)\n",
      "/var/folders/8b/23ncszs16tl07sbdfljm17dm0000gn/T/ipykernel_73359/3338769096.py:34: DeprecationWarning: Starting with ImageIO v3 the behavior of this function will switch to that of iio.v3.imread. To keep the current behavior (and make this warning disappear) use `import imageio.v2 as imageio` or call `imageio.v2.imread` directly.\n",
      "  image = imageio.imread(image_path)\n"
     ]
    },
    {
     "name": "stdout",
     "output_type": "stream",
     "text": [
      "Found 10 images to augment.\n",
      "Augmented images saved for: 2049.png\n",
      "Augmented images saved for: 2461.png\n",
      "Augmented images saved for: 7915.png\n",
      "Augmented images saved for: 1053.png\n",
      "Augmented images saved for: 9235.png\n",
      "Augmented images saved for: 9032.png\n",
      "Augmented images saved for: 8255.png\n",
      "Augmented images saved for: 3513.png\n",
      "Augmented images saved for: 1670.png\n",
      "Augmented images saved for: 8155.png\n"
     ]
    }
   ],
   "source": [
    "# Define augmentations using imgaug\n",
    "augmentations = iaa.Sequential([\n",
    "    iaa.Affine(rotate=(-25, 25)),            # Random rotation between -25 and 25 degrees\n",
    "    iaa.Affine(scale=(0.8, 1.2)),            # Random scaling between 80% and 120%\n",
    "    iaa.AdditiveGaussianNoise(scale=(10, 30)), # Add random Gaussian noise\n",
    "    iaa.GaussianBlur(sigma=(0.0, 3.0)),      # Apply Gaussian blur with a random sigma\n",
    "    iaa.Multiply((0.8, 1.2)),                # Random brightness adjustment\n",
    "    iaa.ContrastNormalization((0.8, 1.2))    # Adjust contrast randomly\n",
    "    \n",
    "])\n",
    "\n",
    "# Function to augment images\n",
    "def augment_images(input_dir, output_dir, augmentations, num_augmented_per_image=5):\n",
    "    \"\"\"\n",
    "    Augments images by applying transformations using imgaug.\n",
    "\n",
    "    Args:\n",
    "    - input_dir (str): Path to the folder containing input images.\n",
    "    - output_dir (str): Path to save augmented images.\n",
    "    - augmentations (iaa.Sequential): Augmentations pipeline.\n",
    "    - num_augmented_per_image (int): Number of augmented images to generate per original image.\n",
    "\n",
    "    Returns:\n",
    "    - None\n",
    "    \"\"\"\n",
    "    # List all image files in the input directory\n",
    "    image_files = [f for f in os.listdir(input_dir) if f.endswith(\".png\")]\n",
    "    print(f\"Found {len(image_files)} images to augment.\")\n",
    "\n",
    "    # Process each image\n",
    "    for image_file in image_files:\n",
    "        # Read the image\n",
    "        image_path = os.path.join(input_dir, image_file)\n",
    "        image = imageio.imread(image_path)\n",
    "\n",
    "        # Generate augmented versions of the image\n",
    "        for i in range(num_augmented_per_image):\n",
    "            augmented_image = augmentations(image=image)  # Apply augmentations\n",
    "\n",
    "            # Save the augmented image\n",
    "            augmented_image_name = f\"{os.path.splitext(image_file)[0]}_aug_{i}.png\"\n",
    "            augmented_image_path = os.path.join(output_dir, augmented_image_name)\n",
    "            imageio.imwrite(augmented_image_path, augmented_image)\n",
    "\n",
    "        print(f\"Augmented images saved for: {image_file}\")\n",
    "\n",
    "# Apply augmentations\n",
    "augment_images(input_dir, output_dir, augmentations, num_augmented_per_image=5)"
   ]
  },
  {
   "cell_type": "code",
   "execution_count": null,
   "metadata": {},
   "outputs": [],
   "source": []
  }
 ],
 "metadata": {
  "kernelspec": {
   "display_name": "Python 3",
   "language": "python",
   "name": "python3"
  },
  "language_info": {
   "codemirror_mode": {
    "name": "ipython",
    "version": 3
   },
   "file_extension": ".py",
   "mimetype": "text/x-python",
   "name": "python",
   "nbconvert_exporter": "python",
   "pygments_lexer": "ipython3",
   "version": "3.8.20"
  }
 },
 "nbformat": 4,
 "nbformat_minor": 2
}
