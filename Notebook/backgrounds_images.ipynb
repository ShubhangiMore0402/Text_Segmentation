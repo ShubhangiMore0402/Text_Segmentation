{
 "cells": [
  {
   "cell_type": "code",
   "execution_count": 3,
   "metadata": {},
   "outputs": [],
   "source": [
    "from PIL import Image\n",
    "import os\n",
    "import random\n",
    "import numpy as np\n"
   ]
  },
  {
   "cell_type": "code",
   "execution_count": 10,
   "metadata": {},
   "outputs": [
    {
     "name": "stdout",
     "output_type": "stream",
     "text": [
      "Plain backgrounds saved in ../artifacts/backgrounds\n"
     ]
    }
   ],
   "source": [
    "# Output directory for backgrounds\n",
    "background_dir = \"../artifacts/backgrounds\"\n",
    "os.makedirs(background_dir, exist_ok=True)\n",
    "\n",
    "# Generate plain background images\n",
    "for i in range(10):  # Create 10 backgrounds\n",
    "    width, height = 800, 600  # Dimensions of the background\n",
    "    gray_shade = random.randint(200, 255)  # Random light gray shade\n",
    "    background = Image.new(\"RGB\", (width, height), (gray_shade, gray_shade, gray_shade))\n",
    "    background.save(os.path.join(background_dir, f\"background_{i+1}.png\"))\n",
    "\n",
    "print(f\"Plain backgrounds saved in {background_dir}\")"
   ]
  },
  {
   "cell_type": "markdown",
   "metadata": {},
   "source": [
    "#### Add Noise to Simulate Imperfections\n",
    "Simulate imperfections like grainy paper or scanning noise."
   ]
  },
  {
   "cell_type": "code",
   "execution_count": 11,
   "metadata": {},
   "outputs": [
    {
     "name": "stdout",
     "output_type": "stream",
     "text": [
      "Noisy backgrounds saved in ../artifacts/backgrounds\n"
     ]
    }
   ],
   "source": [
    "# Function to add noise to the background\n",
    "def generate_noise_background(width, height):\n",
    "    noise = np.random.randint(200, 255, (height, width, 3), dtype=np.uint8)  # Random light noise\n",
    "    noise_image = Image.fromarray(noise)\n",
    "    return noise_image\n",
    "\n",
    "# Generate noisy backgrounds\n",
    "for i in range(10):  # Create 10 noisy backgrounds\n",
    "    background = generate_noise_background(800, 600)\n",
    "    background.save(os.path.join(background_dir, f\"noisy_background_{i+1}.png\"))\n",
    "\n",
    "print(f\"Noisy backgrounds saved in {background_dir}\")"
   ]
  },
  {
   "cell_type": "markdown",
   "metadata": {},
   "source": [
    "#### Create Lined Paper Backgrounds\n",
    "Simulate lined notebook paper with custom colors and spacing."
   ]
  },
  {
   "cell_type": "code",
   "execution_count": 12,
   "metadata": {},
   "outputs": [],
   "source": [
    "from PIL import ImageDraw"
   ]
  },
  {
   "cell_type": "code",
   "execution_count": 13,
   "metadata": {},
   "outputs": [
    {
     "name": "stdout",
     "output_type": "stream",
     "text": [
      "Lined paper backgrounds saved in ../artifacts/backgrounds\n"
     ]
    }
   ],
   "source": [
    "# Function to generate lined paper\n",
    "def generate_lined_paper(width, height, line_color=(150, 150, 255), line_spacing=50):\n",
    "    background = Image.new(\"RGB\", (width, height), (255, 255, 255))  # White paper\n",
    "    draw = ImageDraw.Draw(background)\n",
    "\n",
    "    # Draw horizontal lines\n",
    "    for y in range(0, height, line_spacing):\n",
    "        draw.line([(0, y), (width, y)], fill=line_color, width=2)\n",
    "\n",
    "    return background\n",
    "\n",
    "# Generate lined paper backgrounds\n",
    "for i in range(10):  # Create 10 lined paper backgrounds\n",
    "    background = generate_lined_paper(800, 600)\n",
    "    background.save(os.path.join(background_dir, f\"lined_background_{i+1}.png\"))\n",
    "\n",
    "print(f\"Lined paper backgrounds saved in {background_dir}\")"
   ]
  },
  {
   "cell_type": "markdown",
   "metadata": {},
   "source": [
    "#### Wrinkled or Textured Paper with Filters\n",
    "Simulate wrinkled or textured paper using Pillow and filters."
   ]
  },
  {
   "cell_type": "code",
   "execution_count": 14,
   "metadata": {},
   "outputs": [],
   "source": [
    "from PIL import ImageFilter"
   ]
  },
  {
   "cell_type": "code",
   "execution_count": 15,
   "metadata": {},
   "outputs": [
    {
     "name": "stdout",
     "output_type": "stream",
     "text": [
      "Wrinkled backgrounds saved in ../artifacts/backgrounds\n"
     ]
    }
   ],
   "source": [
    "# Generate wrinkled paper effect\n",
    "for i in range(10):  # Create 10 textured backgrounds\n",
    "    gray_shade = random.randint(200, 255)\n",
    "    background = Image.new(\"RGB\", (800, 600), (gray_shade, gray_shade, gray_shade))\n",
    "\n",
    "    # Apply a filter to simulate wrinkles\n",
    "    background = background.filter(ImageFilter.CONTOUR)  # Contour filter for texture\n",
    "    background.save(os.path.join(background_dir, f\"wrinkled_background_{i+1}.png\"))\n",
    "\n",
    "print(f\"Wrinkled backgrounds saved in {background_dir}\")"
   ]
  }
 ],
 "metadata": {
  "kernelspec": {
   "display_name": "Python 3",
   "language": "python",
   "name": "python3"
  },
  "language_info": {
   "codemirror_mode": {
    "name": "ipython",
    "version": 3
   },
   "file_extension": ".py",
   "mimetype": "text/x-python",
   "name": "python",
   "nbconvert_exporter": "python",
   "pygments_lexer": "ipython3",
   "version": "3.8.20"
  }
 },
 "nbformat": 4,
 "nbformat_minor": 2
}
