{
 "cells": [
  {
   "cell_type": "code",
   "execution_count": 1,
   "metadata": {},
   "outputs": [],
   "source": [
    "import os\n",
    "import shutil\n",
    "import cv2\n",
    "import numpy as np\n",
    "import matplotlib.pyplot as plt\n",
    "from sklearn.model_selection import train_test_split\n",
    "from tqdm import tqdm"
   ]
  },
  {
   "cell_type": "code",
   "execution_count": 2,
   "metadata": {},
   "outputs": [
    {
     "name": "stderr",
     "output_type": "stream",
     "text": [
      "Processing train data: 100%|██████████| 7/7 [00:00<00:00, 101.51it/s]\n",
      "Processing val data: 100%|██████████| 2/2 [00:00<00:00, 140.29it/s]\n",
      "Processing test data: 100%|██████████| 1/1 [00:00<00:00, 164.66it/s]"
     ]
    },
    {
     "name": "stdout",
     "output_type": "stream",
     "text": [
      "✅ Dataset preparation complete. Structured data saved in: ../artifacts/output_dataset_dir\n"
     ]
    },
    {
     "name": "stderr",
     "output_type": "stream",
     "text": [
      "\n"
     ]
    }
   ],
   "source": [
    "\n",
    "# Paths\n",
    "input_image_dir = \"../artifacts/rendered_images\"  # Original images\n",
    "mask_dir = \"../artifacts/refined_masks\"  # Processed masks\n",
    "output_dataset_dir = \"../artifacts/output_dataset_dir\"  # Final dataset\n",
    "\n",
    "# Ensure dataset structure\n",
    "split_dirs = ['train', 'val', 'test']\n",
    "for split in split_dirs:\n",
    "    os.makedirs(os.path.join(output_dataset_dir, split, \"images\"), exist_ok=True)\n",
    "    os.makedirs(os.path.join(output_dataset_dir, split, \"masks\"), exist_ok=True)\n",
    "\n",
    "# Load all filenames\n",
    "image_filenames = [f for f in os.listdir(input_image_dir) if f.endswith((\".png\", \".jpg\"))]\n",
    "\n",
    "# Ensure corresponding masks exist\n",
    "image_filenames = [f for f in image_filenames if os.path.exists(os.path.join(mask_dir, f))]\n",
    "\n",
    "# Train-Validation-Test Split (70-20-10)\n",
    "train_files, test_files = train_test_split(image_filenames, test_size=0.10, random_state=42)\n",
    "train_files, val_files = train_test_split(train_files, test_size=0.20, random_state=42)\n",
    "\n",
    "# Resize dimensions\n",
    "IMG_SIZE = 256\n",
    "\n",
    "def process_and_save(files, split):\n",
    "    \"\"\"Resizes, normalizes, and saves images/masks.\"\"\"\n",
    "    for file in tqdm(files, desc=f\"Processing {split} data\"):\n",
    "        img_path = os.path.join(input_image_dir, file)\n",
    "        mask_path = os.path.join(mask_dir, file)\n",
    "\n",
    "        # Load images & masks\n",
    "        img = cv2.imread(img_path)\n",
    "        mask = cv2.imread(mask_path, cv2.IMREAD_GRAYSCALE)  # Load as grayscale\n",
    "\n",
    "        # Resize\n",
    "        img_resized = cv2.resize(img, (IMG_SIZE, IMG_SIZE))\n",
    "        mask_resized = cv2.resize(mask, (IMG_SIZE, IMG_SIZE))\n",
    "\n",
    "        # Normalize images (convert to float, scale between 0-1)\n",
    "        img_resized = img_resized.astype(np.float32) / 255.0\n",
    "        mask_resized = mask_resized.astype(np.uint8)  # Keep masks as binary (0,255)\n",
    "\n",
    "        # Save processed images & masks\n",
    "        img_output_path = os.path.join(output_dataset_dir, split, \"images\", file)\n",
    "        mask_output_path = os.path.join(output_dataset_dir, split, \"masks\", file)\n",
    "\n",
    "        cv2.imwrite(img_output_path, (img_resized * 255).astype(np.uint8))  # Convert back to uint8 for saving\n",
    "        cv2.imwrite(mask_output_path, mask_resized)\n",
    "\n",
    "# Process each split\n",
    "process_and_save(train_files, \"train\")\n",
    "process_and_save(val_files, \"val\")\n",
    "process_and_save(test_files, \"test\")\n",
    "\n",
    "print(\"✅ Dataset preparation complete. Structured data saved in:\", output_dataset_dir)\n"
   ]
  },
  {
   "cell_type": "code",
   "execution_count": null,
   "metadata": {},
   "outputs": [],
   "source": []
  }
 ],
 "metadata": {
  "kernelspec": {
   "display_name": "Python 3",
   "language": "python",
   "name": "python3"
  },
  "language_info": {
   "codemirror_mode": {
    "name": "ipython",
    "version": 3
   },
   "file_extension": ".py",
   "mimetype": "text/x-python",
   "name": "python",
   "nbconvert_exporter": "python",
   "pygments_lexer": "ipython3",
   "version": "3.8.20"
  }
 },
 "nbformat": 4,
 "nbformat_minor": 2
}
