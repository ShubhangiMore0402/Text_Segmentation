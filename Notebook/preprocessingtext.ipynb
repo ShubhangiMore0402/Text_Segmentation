{
 "cells": [
  {
   "cell_type": "markdown",
   "metadata": {},
   "source": [
    "#### Text Preprocessing Notebook\n",
    "This notebook is used to preprocess text data downloaded from Project Gutenberg.\n",
    "We will read text files, clean them, and save the cleaned text to a single output file.\n"
   ]
  },
  {
   "cell_type": "code",
   "execution_count": 1,
   "metadata": {},
   "outputs": [],
   "source": [
    "import os"
   ]
  },
  {
   "cell_type": "code",
   "execution_count": 2,
   "metadata": {},
   "outputs": [
    {
     "name": "stdout",
     "output_type": "stream",
     "text": [
      "Preprocessed text saved to '../artifacts/text_data/preprocessed_text.txt' with 471 chunks.\n"
     ]
    }
   ],
   "source": [
    "def preprocess_text(file_path, chunk_size=250):\n",
    "    \"\"\"\n",
    "    Preprocess the text data: clean and split into chunks.\n",
    "    \n",
    "    Args:\n",
    "    - file_path (str): Path to the text file.\n",
    "    - chunk_size (int): Number of characters in each chunk.\n",
    "    \n",
    "    Returns:\n",
    "    - List of text chunks.\n",
    "    \"\"\"\n",
    "    # Read the text file\n",
    "    with open(file_path, 'r', encoding='utf-8') as file:\n",
    "        text = file.read()\n",
    "\n",
    "    # Basic text cleaning: remove extra spaces and new lines\n",
    "    text = ' '.join(text.split())\n",
    "    \n",
    "    # Split the text into manageable chunks\n",
    "    chunks = [text[i:i + chunk_size] for i in range(0, len(text), chunk_size)]\n",
    "\n",
    "    return chunks\n",
    "\n",
    "# Define the input file and output file\n",
    "input_file = \"../artifacts/text_data/book.txt\"  # Adjust path as needed\n",
    "output_file = \"../artifacts/text_data/preprocessed_text.txt\"\n",
    "\n",
    "# Preprocess the text and save to a new file\n",
    "text_chunks = preprocess_text(input_file)\n",
    "\n",
    "# Save the processed chunks to a new text file\n",
    "with open(output_file, 'w', encoding='utf-8') as file:\n",
    "    for chunk in text_chunks:\n",
    "        file.write(chunk + \"\\n\")\n",
    "\n",
    "print(f\"Preprocessed text saved to '{output_file}' with {len(text_chunks)} chunks.\")\n"
   ]
  },
  {
   "cell_type": "code",
   "execution_count": null,
   "metadata": {},
   "outputs": [],
   "source": []
  }
 ],
 "metadata": {
  "kernelspec": {
   "display_name": "Python 3",
   "language": "python",
   "name": "python3"
  },
  "language_info": {
   "codemirror_mode": {
    "name": "ipython",
    "version": 3
   },
   "file_extension": ".py",
   "mimetype": "text/x-python",
   "name": "python",
   "nbconvert_exporter": "python",
   "pygments_lexer": "ipython3",
   "version": "3.8.20"
  }
 },
 "nbformat": 4,
 "nbformat_minor": 2
}
