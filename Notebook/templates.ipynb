{
 "cells": [
  {
   "cell_type": "code",
   "execution_count": 5,
   "metadata": {},
   "outputs": [],
   "source": [
    "import os\n",
    "import cv2\n",
    "import numpy as np\n",
    "import json\n",
    "from PIL import Image\n"
   ]
  },
  {
   "cell_type": "code",
   "execution_count": 6,
   "metadata": {},
   "outputs": [
    {
     "name": "stdout",
     "output_type": "stream",
     "text": [
      "Templates extracted from ../artifacts/rendered_images/2049.png and saved in ../artifacts/templates\n",
      "Templates extracted from ../artifacts/rendered_images/2461.png and saved in ../artifacts/templates\n",
      "Templates extracted from ../artifacts/rendered_images/7915.png and saved in ../artifacts/templates\n",
      "Templates extracted from ../artifacts/rendered_images/1053.png and saved in ../artifacts/templates\n",
      "Templates extracted from ../artifacts/rendered_images/9235.png and saved in ../artifacts/templates\n",
      "Templates extracted from ../artifacts/rendered_images/9032.png and saved in ../artifacts/templates\n",
      "Templates extracted from ../artifacts/rendered_images/8255.png and saved in ../artifacts/templates\n",
      "Templates extracted from ../artifacts/rendered_images/3513.png and saved in ../artifacts/templates\n",
      "Templates extracted from ../artifacts/rendered_images/1670.png and saved in ../artifacts/templates\n",
      "Templates extracted from ../artifacts/rendered_images/8155.png and saved in ../artifacts/templates\n",
      "Character template extraction complete.\n"
     ]
    }
   ],
   "source": [
    "\n",
    "# Paths\n",
    "text_images_folder = \"../artifacts/rendered_images\"      # Folder containing original text images\n",
    "coords_folder = \"../artifacts/coordinates\"       # Folder with character bounding boxes (from OCR)\n",
    "template_folder = \"../artifacts/templates\"       # Output folder for character templates\n",
    "\n",
    "# Ensure template folder exists\n",
    "os.makedirs(template_folder, exist_ok=True)\n",
    "\n",
    "def extract_characters(image_path, coords_path, template_folder):\n",
    "    \"\"\"Extract individual character templates from text images using saved coordinates.\"\"\"\n",
    "    \n",
    "    image = cv2.imread(image_path, cv2.IMREAD_GRAYSCALE)\n",
    "    \n",
    "    if not os.path.exists(coords_path):\n",
    "        print(f\"Skipping {image_path} - No coordinates found.\")\n",
    "        return\n",
    "    \n",
    "    with open(coords_path, \"r\") as f:\n",
    "        coordinates = json.load(f)\n",
    "\n",
    "    for idx, box in enumerate(coordinates):\n",
    "        x, y, w, h = box[\"x\"], box[\"y\"], box[\"width\"], box[\"height\"]\n",
    "        char_crop = image[y:y+h, x:x+w]  # Extract character\n",
    "\n",
    "        if char_crop.size == 0:\n",
    "            continue  # Skip empty regions\n",
    "\n",
    "        # Save character as an individual template\n",
    "        template_path = os.path.join(template_folder, f\"{os.path.basename(image_path).replace('.png', '')}_char{idx}.png\")\n",
    "        cv2.imwrite(template_path, char_crop)\n",
    "\n",
    "    print(f\"Templates extracted from {image_path} and saved in {template_folder}\")\n",
    "\n",
    "# Process all images\n",
    "for image_file in os.listdir(text_images_folder):\n",
    "    if image_file.endswith(\".png\"):\n",
    "        image_path = os.path.join(text_images_folder, image_file)\n",
    "        coords_path = os.path.join(coords_folder, image_file.replace(\".png\", \".json\"))\n",
    "        extract_characters(image_path, coords_path, template_folder)\n",
    "\n",
    "print(\"Character template extraction complete.\")\n"
   ]
  },
  {
   "cell_type": "code",
   "execution_count": null,
   "metadata": {},
   "outputs": [],
   "source": []
  }
 ],
 "metadata": {
  "kernelspec": {
   "display_name": "Python 3",
   "language": "python",
   "name": "python3"
  },
  "language_info": {
   "codemirror_mode": {
    "name": "ipython",
    "version": 3
   },
   "file_extension": ".py",
   "mimetype": "text/x-python",
   "name": "python",
   "nbconvert_exporter": "python",
   "pygments_lexer": "ipython3",
   "version": "3.8.20"
  }
 },
 "nbformat": 4,
 "nbformat_minor": 2
}
